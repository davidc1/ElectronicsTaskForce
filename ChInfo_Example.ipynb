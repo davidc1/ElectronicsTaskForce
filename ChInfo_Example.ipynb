{
 "metadata": {
  "name": ""
 },
 "nbformat": 3,
 "nbformat_minor": 0,
 "worksheets": [
  {
   "cells": [
    {
     "cell_type": "code",
     "collapsed": false,
     "input": [
      "import ROOT\n",
      "import sys, os\n",
      "import numpy as np\n",
      "import getChInfo\n",
      "%matplotlib inline\n",
      "\n",
      "# this only works if you are in the directory where getChInfo.py lives\n",
      "chinfo = getChInfo.ChanInfo()\n",
      "chinfo.setVerbose(False)"
     ],
     "language": "python",
     "metadata": {},
     "outputs": [
      {
       "output_type": "stream",
       "stream": "stdout",
       "text": [
        "Done filling bad channel list! Number of entries:  1473\n",
        "done filling dictionary!"
       ]
      },
      {
       "output_type": "stream",
       "stream": "stdout",
       "text": [
        "\n"
       ]
      }
     ],
     "prompt_number": 1
    },
    {
     "cell_type": "code",
     "collapsed": false,
     "input": [
      "# example on how to use getChInfo:\n",
      "\n",
      "cr = 5\n",
      "sl = 6\n",
      "ch = 31\n",
      "lchan = chinfo.getlarch(cr,sl,ch)\n",
      "print '[crate,slot,femch] = [%i,%i,%i]'%(cr,sl,ch)\n",
      "print 'LArChan for these coordinates is %i'%lchan.larch\n",
      "print 'LArWire: %i'%lchan.larwire\n",
      "print 'Wire Length: %f'%lchan.length\n",
      "print 'Plane: %i'%lchan.plane\n",
      "print 'RMS noise (@ Summer 2014): %f ADC RMS @ 4.7 mV/fC ASIC gain & 1 usec shaping'%lchan.noise[0][0]"
     ],
     "language": "python",
     "metadata": {},
     "outputs": [
      {
       "output_type": "stream",
       "stream": "stdout",
       "text": [
        "[crate,slot,femch] = [5,6,31]\n",
        "LArChan for these coordinates is 3872\n",
        "LArWire: 927\n",
        "Wire Length: 465.970001\n",
        "Plane: 1\n",
        "RMS noise (@ Summer 2014): 1.480469 ADC RMS @ 4.7 mV/fC ASIC gain & 1 usec shaping\n"
       ]
      }
     ],
     "prompt_number": 6
    },
    {
     "cell_type": "code",
     "collapsed": false,
     "input": [],
     "language": "python",
     "metadata": {},
     "outputs": []
    }
   ],
   "metadata": {}
  }
 ]
}